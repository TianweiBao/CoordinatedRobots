{
 "cells": [
  {
   "cell_type": "code",
   "execution_count": null,
   "metadata": {},
   "outputs": [
    {
     "data": {
      "text/plain": [
       "'x123'"
      ]
     },
     "execution_count": 3,
     "metadata": {},
     "output_type": "execute_result"
    }
   ],
   "source": [
    "from microbit import *\n",
    "import radio\n",
    "import machine\n",
    "\n",
    "# Generate a unique ID for the device\n",
    "unique_id = machine.unique_id()\n",
    "\n",
    "# Map unique IDs to roles\n",
    "# Replace these with the unique IDs of your micro:bits (found by printing them)\n",
    "JOYSTICK_ID = b'\\x01\\x02\\x03\\x04'  # Example ID for Joystick Controller\n",
    "RELAY_ID = b'\\x05\\x06\\x07\\x08'     # Example ID for Relay\n",
    "RECEIVER_ID = b'\\x09\\x0a\\x0b\\x0c'  # Example ID for Receiver\n",
    "\n",
    "# Determine role based on unique ID\n",
    "if unique_id == JOYSTICK_ID:\n",
    "    ROLE = \"Joystick\"\n",
    "elif unique_id == RELAY_ID:\n",
    "    ROLE = \"Relay\"\n",
    "elif unique_id == RECEIVER_ID:\n",
    "    ROLE = \"Receiver\"\n",
    "else:\n",
    "    ROLE = None  # Unknown role, default behavior\n",
    "\n",
    "# Radio configuration\n",
    "radio.on()\n",
    "radio_group_controller_to_relay = 1  # Group for Joystick -> Relay\n",
    "radio_group_relay_to_receiver = 2   # Group for Relay -> Receiver\n",
    "\n",
    "if ROLE == \"Joystick\":\n",
    "    # Joystick Controller Code\n",
    "    radio.config(group=radio_group_controller_to_relay)\n",
    "\n",
    "    while True:\n",
    "        x = pin0.read_analog()  # Joystick X-axis\n",
    "        y = pin1.read_analog()  # Joystick Y-axis\n",
    "        button = pin2.read_digital()  # Joystick button\n",
    "\n",
    "        # Create and send message\n",
    "        message = f\"{x},{y},{button}\"\n",
    "        radio.send(message)\n",
    "\n",
    "        # Indicate transmission\n",
    "        display.show(\"T\")\n",
    "        sleep(100)\n",
    "        display.clear()\n",
    "\n",
    "elif ROLE == \"Relay\":\n",
    "    # Relay Code\n",
    "    while True:\n",
    "        # Receive from Joystick (Group 1)\n",
    "        radio.config(group=radio_group_controller_to_relay)\n",
    "        message = radio.receive()\n",
    "\n",
    "        if message:\n",
    "            # Relay to Receiver (Group 2)\n",
    "            radio.config(group=radio_group_relay_to_receiver)\n",
    "            radio.send(message)\n",
    "            radio.config(group=radio_group_controller_to_relay)  # Switch back to receive\n",
    "\n",
    "            # Indicate relay\n",
    "            display.show(\"R\")\n",
    "            sleep(100)\n",
    "            display.clear()\n",
    "\n",
    "elif ROLE == \"Receiver\":\n",
    "    # Receiver Code\n",
    "    radio.config(group=radio_group_relay_to_receiver)\n",
    "\n",
    "    while True:\n",
    "        message = radio.receive()\n",
    "\n",
    "        if message:\n",
    "            # Parse and process received data\n",
    "            x, y, button = map(int, message.split(\",\"))\n",
    "            display.scroll(f\"X:{x} Y:{y} B:{button}\")\n",
    "            sleep(100)\n",
    "else:\n",
    "    # If ROLE is not defined, indicate error\n",
    "    display.scroll(\"ROLE?\")"
   ]
  },
  {
   "cell_type": "code",
   "execution_count": 8,
   "metadata": {},
   "outputs": [],
   "source": [
    "msg = \"1,2\"\n",
    "x,y = [float(ele) for ele in msg.split(\",\")]"
   ]
  },
  {
   "cell_type": "code",
   "execution_count": 10,
   "metadata": {},
   "outputs": [],
   "source": [
    "left = 0x04\n",
    "r,g,b = 255, 0, 0"
   ]
  },
  {
   "cell_type": "code",
   "execution_count": 12,
   "metadata": {},
   "outputs": [
    {
     "data": {
      "text/plain": [
       "b'\\x04\\xff\\x00\\x00'"
      ]
     },
     "execution_count": 12,
     "metadata": {},
     "output_type": "execute_result"
    }
   ],
   "source": [
    "bytes([left, r, g, b])"
   ]
  }
 ],
 "metadata": {
  "kernelspec": {
   "display_name": "cs346",
   "language": "python",
   "name": "python3"
  },
  "language_info": {
   "codemirror_mode": {
    "name": "ipython",
    "version": 3
   },
   "file_extension": ".py",
   "mimetype": "text/x-python",
   "name": "python",
   "nbconvert_exporter": "python",
   "pygments_lexer": "ipython3",
   "version": "3.13.0"
  }
 },
 "nbformat": 4,
 "nbformat_minor": 2
}
